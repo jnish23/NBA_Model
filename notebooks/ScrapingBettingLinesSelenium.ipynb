{
 "cells": [
  {
   "cell_type": "code",
   "execution_count": 200,
   "metadata": {},
   "outputs": [],
   "source": [
    "from selenium import webdriver\n",
    "from selenium.webdriver.chrome.options import Options\n",
    "\n",
    "options = Options()\n",
    "options.headless = True\n",
    "\n",
    "import numpy as np\n",
    "import pandas as pd\n",
    "import time as time\n",
    "from time import sleep\n",
    "import random\n"
   ]
  },
  {
   "cell_type": "code",
   "execution_count": 165,
   "metadata": {},
   "outputs": [],
   "source": [
    "from nba_api.stats.endpoints import leaguegamelog\n",
    "from nba_api.stats.library.parameters import SeasonAll"
   ]
  },
  {
   "cell_type": "code",
   "execution_count": 166,
   "metadata": {},
   "outputs": [
    {
     "data": {
      "text/plain": [
       "array(['2010-10-26', '2010-10-27', '2010-10-28', ..., '2021-01-23',\n",
       "       '2021-01-24', '2021-01-25'], dtype=object)"
      ]
     },
     "execution_count": 166,
     "metadata": {},
     "output_type": "execute_result"
    }
   ],
   "source": [
    "seasons = ['20{}-{}'.format(x, x+1) for x in range(10, 21)]\n",
    "dates = np.array([])\n",
    "for season in seasons:\n",
    "    games = leaguegamelog.LeagueGameLog(season=season).get_data_frames()[0]\n",
    "    dates = np.append(dates, games['GAME_DATE'].unique())\n",
    "\n",
    "dates"
   ]
  },
  {
   "cell_type": "code",
   "execution_count": 159,
   "metadata": {},
   "outputs": [],
   "source": [
    "dates = dates.tolist()"
   ]
  },
  {
   "cell_type": "code",
   "execution_count": 160,
   "metadata": {},
   "outputs": [
    {
     "data": {
      "text/plain": [
       "['2021-01-16',\n",
       " '2021-01-17',\n",
       " '2021-01-18',\n",
       " '2021-01-19',\n",
       " '2021-01-20',\n",
       " '2021-01-21',\n",
       " '2021-01-22',\n",
       " '2021-01-23',\n",
       " '2021-01-24',\n",
       " '2021-01-25']"
      ]
     },
     "execution_count": 160,
     "metadata": {},
     "output_type": "execute_result"
    }
   ],
   "source": [
    "dates[-10:]\n"
   ]
  },
  {
   "cell_type": "code",
   "execution_count": 186,
   "metadata": {},
   "outputs": [
    {
     "name": "stdout",
     "output_type": "stream",
     "text": [
      "2021-01-16\n",
      "2021-01-16\n",
      "2021-01-16\n",
      "2021-01-16\n",
      "2021-01-16\n",
      "2021-01-16\n",
      "2021-01-16\n",
      "2021-01-17\n",
      "2021-01-17\n",
      "2021-01-17\n",
      "2021-01-17\n",
      "2021-01-17\n",
      "2021-01-17\n",
      "2021-01-17\n",
      "2021-01-18\n",
      "2021-01-18\n",
      "2021-01-18\n",
      "2021-01-18\n",
      "2021-01-18\n",
      "2021-01-18\n",
      "2021-01-18\n",
      "2021-01-18\n",
      "2021-01-18\n",
      "2021-01-19\n",
      "2021-01-19\n",
      "2021-01-20\n",
      "2021-01-20\n",
      "2021-01-20\n",
      "2021-01-20\n",
      "2021-01-20\n",
      "2021-01-20\n",
      "2021-01-20\n",
      "2021-01-20\n",
      "2021-01-20\n",
      "2021-01-20\n",
      "2021-01-21\n",
      "2021-01-21\n",
      "2021-01-21\n",
      "2021-01-22\n",
      "2021-01-22\n",
      "2021-01-22\n",
      "2021-01-22\n",
      "2021-01-22\n",
      "2021-01-22\n",
      "2021-01-22\n",
      "2021-01-22\n",
      "2021-01-22\n",
      "2021-01-22\n",
      "2021-01-22\n",
      "2021-01-22\n",
      "2021-01-22\n",
      "2021-01-23\n"
     ]
    },
    {
     "ename": "IndexError",
     "evalue": "list index out of range",
     "output_type": "error",
     "traceback": [
      "\u001b[1;31m---------------------------------------------------------------------------\u001b[0m",
      "\u001b[1;31mIndexError\u001b[0m                                Traceback (most recent call last)",
      "\u001b[1;32m<ipython-input-186-f99365232df0>\u001b[0m in \u001b[0;36m<module>\u001b[1;34m\u001b[0m\n\u001b[0;32m     44\u001b[0m         \u001b[1;32mfor\u001b[0m \u001b[0ms\u001b[0m \u001b[1;32min\u001b[0m \u001b[0mspreads\u001b[0m\u001b[1;33m:\u001b[0m\u001b[1;33m\u001b[0m\u001b[1;33m\u001b[0m\u001b[0m\n\u001b[0;32m     45\u001b[0m             \u001b[0maway_spread\u001b[0m\u001b[1;33m.\u001b[0m\u001b[0mappend\u001b[0m\u001b[1;33m(\u001b[0m\u001b[0ms\u001b[0m\u001b[1;33m.\u001b[0m\u001b[0mtext\u001b[0m\u001b[1;33m.\u001b[0m\u001b[0msplit\u001b[0m\u001b[1;33m(\u001b[0m\u001b[1;34m'\\n'\u001b[0m\u001b[1;33m)\u001b[0m\u001b[1;33m[\u001b[0m\u001b[1;36m0\u001b[0m\u001b[1;33m]\u001b[0m\u001b[1;33m)\u001b[0m\u001b[1;33m\u001b[0m\u001b[1;33m\u001b[0m\u001b[0m\n\u001b[1;32m---> 46\u001b[1;33m             \u001b[0mhome_spread\u001b[0m\u001b[1;33m.\u001b[0m\u001b[0mappend\u001b[0m\u001b[1;33m(\u001b[0m\u001b[0ms\u001b[0m\u001b[1;33m.\u001b[0m\u001b[0mtext\u001b[0m\u001b[1;33m.\u001b[0m\u001b[0msplit\u001b[0m\u001b[1;33m(\u001b[0m\u001b[1;34m'\\n'\u001b[0m\u001b[1;33m)\u001b[0m\u001b[1;33m[\u001b[0m\u001b[1;36m1\u001b[0m\u001b[1;33m]\u001b[0m\u001b[1;33m)\u001b[0m\u001b[1;33m\u001b[0m\u001b[1;33m\u001b[0m\u001b[0m\n\u001b[0m\u001b[0;32m     47\u001b[0m \u001b[1;33m\u001b[0m\u001b[0m\n\u001b[0;32m     48\u001b[0m \u001b[1;33m\u001b[0m\u001b[0m\n",
      "\u001b[1;31mIndexError\u001b[0m: list index out of range"
     ]
    }
   ],
   "source": [
    "for date in dates[-10:]:\n",
    "    print(date)\n",
    "\n",
    "    # Points Spread Data\n",
    "    web = 'https://www.sportsbookreview.com/betting-odds/nba-basketball/pointspread/?date={}'.format(date)\n",
    "    path = './chromedriver.exe'\n",
    "\n",
    "    driver = webdriver.Chrome(path, options=options)\n",
    "\n",
    "    driver.get(web)\n",
    "\n",
    "    gm_date = []\n",
    "    away = []\n",
    "    home = []\n",
    "    away_scoreboard = []\n",
    "    home_scoreboard = []\n",
    "    away_spread = []\n",
    "    home_spread = []\n",
    "    away_moneyline = []\n",
    "    home_moneyline = []\n",
    "    total = []\n",
    "\n",
    "    single_row_events = driver.find_elements_by_class_name('eventMarketGridContainer-3QipG')\n",
    "   \n",
    "    for event in single_row_events:\n",
    "        away.append(event.find_elements_by_class_name('participantBox-3ar9Y')[0].text)\n",
    "        home.append(event.find_elements_by_class_name('participantBox-3ar9Y')[1].text)\n",
    "        gm_date.append(date)\n",
    "\n",
    "        away_scores = []\n",
    "        home_scores = []\n",
    "\n",
    "        scoreboard = event.find_elements_by_class_name('scoreboard-1TXQV')\n",
    "        for score in scoreboard:\n",
    "            quarters = score.find_elements_by_class_name('scoreboardColumn-2OtpR')\n",
    "            for i in range(len(quarters)):\n",
    "                scores = quarters[i].text.split('\\n')\n",
    "                away_scores.append(int(scores[0]))\n",
    "                home_scores.append(int(scores[1]))\n",
    "            away_scoreboard.append(away_scores)\n",
    "            home_scoreboard.append(home_scores)\n",
    "\n",
    "        spreads = event.find_elements_by_class_name('oddsContainer-15U4I')\n",
    "        for s in spreads:\n",
    "            away_spread.append(s.text.split('\\n')[0])\n",
    "            home_spread.append(s.text.split('\\n')[1])\n",
    "\n",
    "\n",
    "    if len(away) != len(away_scoreboard):\n",
    "        games_to_remove = len(away) - len(away_scoreboard)\n",
    "        away = away[:-games_to_remove]\n",
    "        home = home[:-games_to_remove]\n",
    "        away_spread = away_spread[:-games_to_remove]\n",
    "        home_spread = home_spread[:-games_to_remove]\n",
    "\n",
    "    sleep(random.randint(3,7))\n"
   ]
  },
  {
   "cell_type": "code",
   "execution_count": 206,
   "metadata": {},
   "outputs": [],
   "source": [
    "web = 'https://www.sportsbookreview.com/betting-odds/nba-basketball/pointspread/?date=2021-01-23'\n",
    "path = './chromedriver.exe'\n",
    "\n",
    "driver = webdriver.Chrome(path, options=options)\n",
    "\n",
    "single_row_events = driver.find_elements_by_class_name('eventMarketGridContainer-3QipG')\n",
    "\n",
    "away_spread = []\n",
    "home_spread = []\n",
    "\n",
    "for event in single_row_events:\n",
    "    print(event)\n",
    "    spreads = event.find_elements_by_class_name('adjust-1uDgI')\n",
    "    print(len(spreads))\n",
    "    print(spreads)\n",
    "#         away_spread.append(s.text.split('\\n')[0])\n",
    "#         home_spread.append(s.text.split('\\n')[1])\n",
    "        \n",
    "        \n",
    "# print(away_spread, home_spread)\n"
   ]
  },
  {
   "cell_type": "code",
   "execution_count": 183,
   "metadata": {},
   "outputs": [
    {
     "data": {
      "text/html": [
       "<div>\n",
       "<style scoped>\n",
       "    .dataframe tbody tr th:only-of-type {\n",
       "        vertical-align: middle;\n",
       "    }\n",
       "\n",
       "    .dataframe tbody tr th {\n",
       "        vertical-align: top;\n",
       "    }\n",
       "\n",
       "    .dataframe thead th {\n",
       "        text-align: right;\n",
       "    }\n",
       "</style>\n",
       "<table border=\"1\" class=\"dataframe\">\n",
       "  <thead>\n",
       "    <tr style=\"text-align: right;\">\n",
       "      <th></th>\n",
       "      <th>away_team</th>\n",
       "      <th>home_team</th>\n",
       "      <th>away_scoreboard</th>\n",
       "      <th>home_scoreboard</th>\n",
       "      <th>away_spread</th>\n",
       "      <th>home_spread</th>\n",
       "    </tr>\n",
       "  </thead>\n",
       "  <tbody>\n",
       "    <tr>\n",
       "      <th>0</th>\n",
       "      <td>Houston</td>\n",
       "      <td>San Antonio</td>\n",
       "      <td>[30, 23, 19, 19, 91]</td>\n",
       "      <td>[21, 29, 25, 28, 103]</td>\n",
       "      <td>+7-110</td>\n",
       "      <td>-7-110</td>\n",
       "    </tr>\n",
       "    <tr>\n",
       "      <th>1</th>\n",
       "      <td>Orlando</td>\n",
       "      <td>Brooklyn</td>\n",
       "      <td>[26, 24, 33, 32, 115]</td>\n",
       "      <td>[29, 23, 32, 38, 122]</td>\n",
       "      <td>+9½-110</td>\n",
       "      <td>-9½-110</td>\n",
       "    </tr>\n",
       "    <tr>\n",
       "      <th>2</th>\n",
       "      <td>Charlotte</td>\n",
       "      <td>Toronto</td>\n",
       "      <td>[27, 37, 23, 26, 113]</td>\n",
       "      <td>[31, 35, 22, 28, 116]</td>\n",
       "      <td>+6½-110</td>\n",
       "      <td>-6½-110</td>\n",
       "    </tr>\n",
       "    <tr>\n",
       "      <th>3</th>\n",
       "      <td>Philadelphia</td>\n",
       "      <td>Memphis</td>\n",
       "      <td>[26, 28, 22, 28, 104]</td>\n",
       "      <td>[25, 35, 28, 18, 106]</td>\n",
       "      <td>+2-105</td>\n",
       "      <td>-2-115</td>\n",
       "    </tr>\n",
       "    <tr>\n",
       "      <th>4</th>\n",
       "      <td>Detroit</td>\n",
       "      <td>Miami</td>\n",
       "      <td>[29, 23, 38, 30, 120]</td>\n",
       "      <td>[23, 33, 19, 25, 100]</td>\n",
       "      <td>+5½-110</td>\n",
       "      <td>-5½-110</td>\n",
       "    </tr>\n",
       "    <tr>\n",
       "      <th>5</th>\n",
       "      <td>Atlanta</td>\n",
       "      <td>Portland</td>\n",
       "      <td>[38, 28, 20, 20, 106]</td>\n",
       "      <td>[34, 25, 27, 26, 112]</td>\n",
       "      <td>+5-105</td>\n",
       "      <td>-5-115</td>\n",
       "    </tr>\n",
       "  </tbody>\n",
       "</table>\n",
       "</div>"
      ],
      "text/plain": [
       "      away_team    home_team        away_scoreboard        home_scoreboard  \\\n",
       "0       Houston  San Antonio   [30, 23, 19, 19, 91]  [21, 29, 25, 28, 103]   \n",
       "1       Orlando     Brooklyn  [26, 24, 33, 32, 115]  [29, 23, 32, 38, 122]   \n",
       "2     Charlotte      Toronto  [27, 37, 23, 26, 113]  [31, 35, 22, 28, 116]   \n",
       "3  Philadelphia      Memphis  [26, 28, 22, 28, 104]  [25, 35, 28, 18, 106]   \n",
       "4       Detroit        Miami  [29, 23, 38, 30, 120]  [23, 33, 19, 25, 100]   \n",
       "5       Atlanta     Portland  [38, 28, 20, 20, 106]  [34, 25, 27, 26, 112]   \n",
       "\n",
       "  away_spread home_spread  \n",
       "0      +7-110      -7-110  \n",
       "1     +9½-110     -9½-110  \n",
       "2     +6½-110     -6½-110  \n",
       "3      +2-105      -2-115  \n",
       "4     +5½-110     -5½-110  \n",
       "5      +5-105      -5-115  "
      ]
     },
     "execution_count": 183,
     "metadata": {},
     "output_type": "execute_result"
    }
   ],
   "source": [
    "pd.DataFrame({'away_team':away,\n",
    "             'home_team':home,\n",
    "             'away_scoreboard':away_scoreboard,\n",
    "             'home_scoreboard':home_scoreboard,\n",
    "             'away_spread':away_spread,\n",
    "             'home_spread':home_spread})"
   ]
  },
  {
   "cell_type": "code",
   "execution_count": null,
   "metadata": {},
   "outputs": [],
   "source": [
    "df"
   ]
  },
  {
   "cell_type": "code",
   "execution_count": 162,
   "metadata": {},
   "outputs": [
    {
     "name": "stdout",
     "output_type": "stream",
     "text": [
      "['-450', '+270', '-400', '+250', '-500', '+250', '-140'] ['+325', '-340', '+300', '-300', '+350', '-300', '+120']\n"
     ]
    }
   ],
   "source": [
    "    # Get totals\n",
    "    web = 'https://www.sportsbookreview.com/betting-odds/nba-basketball/totals/?date={}'.format(date)\n",
    "    path = './chromedriver.exe'\n",
    "    driver = webdriver.Chrome(path)\n",
    "    driver.get(web)\n",
    "\n",
    "    single_row_events = driver.find_elements_by_class_name('eventMarketGridContainer-3QipG')\n",
    "    for event in single_row_events:\n",
    "        t = event.find_element_by_class_name('oddsContainer-15U4I')\n",
    "        total.append(t.text.split('-')[0])\n",
    "\n",
    "\n",
    "    # Get Moneylines\n",
    "    web = 'https://www.sportsbookreview.com/betting-odds/nba-basketball/money-line/?date={}'.format(date)\n",
    "    path = './chromedriver.exe'\n",
    "    driver = webdriver.Chrome(path)\n",
    "    driver.get(web)\n",
    "\n",
    "    away_moneyline = []\n",
    "    home_moneyline = []\n",
    "\n",
    "    single_row_events = driver.find_elements_by_class_name('eventMarketGridContainer-3QipG')\n",
    "    for event in single_row_events:\n",
    "        ml = event.find_element_by_class_name('oddsContainer-15U4I')\n",
    "        away_moneyline.append(ml.text.split('\\n')[0])\n",
    "        home_moneyline.append(ml.text.split('\\n')[1])\n",
    "\n",
    "\n",
    "    sleep(random.randint(3,7))\n",
    "\n",
    "df = pd.DataFrame({'away_team':away,\n",
    "                  'home_team':home,\n",
    "                  'away_scoreboard':away_scoreboard,\n",
    "                  'home_scoreboard':home_scoreboard,\n",
    "                  'away_spread':away_spread,\n",
    "                  'home_spread':home_spread,\n",
    "                  'away_moneyline':away_moneyline,\n",
    "                  'home_moneyline':home_moneyline,\n",
    "                  'total':total})"
   ]
  },
  {
   "cell_type": "code",
   "execution_count": null,
   "metadata": {},
   "outputs": [],
   "source": []
  }
 ],
 "metadata": {
  "kernelspec": {
   "display_name": "Python 3",
   "language": "python",
   "name": "python3"
  },
  "language_info": {
   "codemirror_mode": {
    "name": "ipython",
    "version": 3
   },
   "file_extension": ".py",
   "mimetype": "text/x-python",
   "name": "python",
   "nbconvert_exporter": "python",
   "pygments_lexer": "ipython3",
   "version": "3.7.4"
  }
 },
 "nbformat": 4,
 "nbformat_minor": 4
}
