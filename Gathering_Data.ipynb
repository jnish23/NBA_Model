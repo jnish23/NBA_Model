{
 "cells": [
  {
   "cell_type": "code",
   "execution_count": 2,
   "metadata": {},
   "outputs": [],
   "source": [
    "import nba_api\n",
    "from tqdm import tqdm\n",
    "from nba_api.stats.static import players, teams\n",
    "from nba_api.stats.library.parameters import SeasonAll\n",
    "from nba_api.stats.endpoints import leaguegamelog\n",
    "from nba_api.stats.endpoints import playergamelogs\n",
    "from nba_api.stats.endpoints import boxscoreadvancedv2\n",
    "from nba_api.stats.endpoints import boxscorefourfactorsv2\n",
    "from nba_api.stats.endpoints import boxscoremiscv2\n",
    "from nba_api.stats.endpoints import boxscoredefensive\n",
    "from nba_api.stats.endpoints import boxscoreusagev2\n",
    "from nba_api.stats.endpoints import boxscorescoringv2\n",
    "from nba_api.stats.endpoints import boxscorematchups\n",
    "from nba_api.stats.endpoints import boxscoretraditionalv2\n",
    "from nba_api.stats.endpoints import boxscoresummaryv2\n",
    "from nba_api.stats.endpoints import leaguedashplayershotlocations\n",
    "from nba_api.stats.endpoints import leaguedashplayerclutch\n",
    "from nba_api.stats.endpoints import leaguedashoppptshot\n",
    "from nba_api.stats.endpoints import leaguedashplayerptshot\n",
    "from nba_api.stats.endpoints import leaguedashptdefend\n",
    "from nba_api.stats.endpoints import scoreboard, scoreboardv2\n",
    "from nba_api.stats.endpoints import teamgamelogs, teamgamelog\n",
    "\n",
    "from time import sleep\n",
    "import random\n",
    "import pandas as pd\n",
    "# def get_data():\n",
    "    \n",
    "period = 0   # All\n",
    "season = '2019-20'\n",
    "\n",
    "gamelogs = leaguegamelog.LeagueGameLog(season=season).get_data_frames()[0]\n",
    "\n",
    "game_ids = gamelogs['GAME_ID'].unique()\n",
    "\n",
    "\n",
    "# for game_id in game_ids:\n",
    "# # Player [0] or Team [1] Stats\n",
    "# player_advanced_boxscores = []\n",
    "# team_advanced_boxscores = []\n",
    "# player_boxscores = boxscoreadvancedv2.BoxScoreAdvancedV2(game_id=game_id, end_period=period).get_data_frames()[0]\n",
    "\n",
    "# Player [0] or Team [1] Stats\n",
    "# boxscorefourfactorsv2.BoxScoreFourFactorsV2(game_id=game_id, end_period=period).get_data_frames()[0]\n",
    "\n",
    "# Player [0] or Team [1] Stats\n",
    "# boxscoremiscv2.BoxScoreMiscV2(game_id=game_id, end_period=period).get_data_frames()[0]\n",
    "\n",
    "# Only Player [0] Stats\n",
    "# boxscoredefensive.BoxScoreDefensive(game_id=game_id).get_data_frames()[0]\n",
    "\n",
    "# Player Usage Stats\n",
    "# boxscoreusagev2.BoxScoreUsageV2(game_id=game_id).get_data_frames()[0]\n",
    "\n",
    "# Player [0] or Team [1] Scoring Stats\n",
    "# boxscorescoringv2.BoxScoreScoringV2(game_id=game_id).get_data_frames()[1]\n",
    "\n",
    "# All player matchup combinations stats\n",
    "# boxscorematchups.BoxScoreMatchups(game_id=game_id).get_data_frames()[0]\n",
    "\n",
    "# Traditional Player [0] or Team[1] Boxscore Stats\n",
    "# boxscoretraditionalv2.BoxScoreTraditionalV2(game_id=game_id).get_data_frames()[1]\n",
    "\n",
    "# [1]: PTS_PAINT, PTS_2ND_CHANCE, PTS_FB etc, [5]: LineScore (pts by quarter)\n",
    "# boxscoresummaryv2.BoxScoreSummaryV2(game_id=game_id).get_data_frames()[1]\n",
    "\n",
    "# Player [2] Hustle Box Score Stats and Team [3] Hustle Box Score Stats\n",
    "# hustlestatsboxscore.HustleStatsBoxScore(game_id=game_ids[0]).get_data_frames()[2]\n",
    "\n",
    "\n",
    "# leaguedashoppptshot.LeagueDashOppPtShot(per_mode_simple='PerGame', season=season,).get_data_frames()[0]\n",
    "\n",
    "# leaguedashptdefend.LeagueDashPtDefend(season=season, date_to_nullable='2019-11-12').get_data_frames()[0]"
   ]
  },
  {
   "cell_type": "code",
   "execution_count": 24,
   "metadata": {},
   "outputs": [],
   "source": [
    "teams_df = pd.DataFrame(teams.get_teams())\n",
    "team_abbreviations = teams_df['abbreviation'].tolist()\n",
    "\n"
   ]
  },
  {
   "cell_type": "code",
   "execution_count": null,
   "metadata": {},
   "outputs": [],
   "source": []
  },
  {
   "cell_type": "code",
   "execution_count": 3,
   "metadata": {},
   "outputs": [],
   "source": [
    "seasons = ['2020-21']\n",
    "def get_team_gamelogs(seasons=seasons):\n",
    "    for season in seasons:\n",
    "        team_gamelogs_df = teamgamelogs.TeamGameLogs(season_nullable=season).get_data_frames()[0]\n",
    "        path = './data/gamelog_{}.csv'.format(season)\n",
    "        team_gamelogs_df.to_csv(path, index=False)\n",
    "        sleep(random.randint(2,6))\n",
    "\n",
    "    return None\n",
    "\n",
    "get_team_gamelogs()"
   ]
  },
  {
   "cell_type": "code",
   "execution_count": null,
   "metadata": {},
   "outputs": [],
   "source": [
    "seasons = ['2020-21']\n",
    "def get_basic_gamelogs(seasons = seasons):\n",
    "    for season in seasons:\n",
    "        season_gamelogs = leaguegamelog.LeagueGameLog(season=season).get_data_frames()[0]\n",
    "        home_gamelogs = season_gamelogs.loc[season_gamelogs.duplicated(subset='GAME_ID', keep='last')]\n",
    "        away_gamelogs = season_gamelogs.loc[season_gamelogs.duplicated(subset='GAME_ID', keep='first')]\n",
    "\n",
    "        gamelogs_full = pd.merge(home_gamelogs, away_gamelogs, how='inner', on='GAME_ID', suffixes=['', '_opp'])\n",
    "\n",
    "        path = '../NBA-Model/data/gamelog_{}.csv'.format(season)\n",
    "        gamelogs_full.to_csv(path, index=False)\n",
    "    return None\n",
    "    \n",
    "get_basic_gamelogs(seasons=seasons)\n",
    "\n",
    "\n"
   ]
  },
  {
   "cell_type": "code",
   "execution_count": 4,
   "metadata": {},
   "outputs": [],
   "source": [
    "seasons = ['2020-21']\n",
    "\n",
    "def get_player_gamelogs(seasons = seasons):\n",
    "    for season in seasons:\n",
    "        player_gamelogs = playergamelogs.PlayerGameLogs(season_nullable=season).get_data_frames()[0]\n",
    "        path = './data/player_gamelogs_{}.csv'.format(season)\n",
    "        \n",
    "        player_gamelogs.to_csv(path, index=False)\n",
    "        \n",
    "    return None\n",
    "\n",
    "get_player_gamelogs(seasons=seasons)"
   ]
  },
  {
   "cell_type": "code",
   "execution_count": 3,
   "metadata": {},
   "outputs": [
    {
     "ename": "NameError",
     "evalue": "name 'game_id' is not defined",
     "output_type": "error",
     "traceback": [
      "\u001b[1;31m---------------------------------------------------------------------------\u001b[0m",
      "\u001b[1;31mNameError\u001b[0m                                 Traceback (most recent call last)",
      "\u001b[1;32m<ipython-input-3-d63ae9a2ea0c>\u001b[0m in \u001b[0;36m<module>\u001b[1;34m\u001b[0m\n\u001b[1;32m----> 1\u001b[1;33m \u001b[0mteam_boxscore\u001b[0m \u001b[1;33m=\u001b[0m \u001b[0mboxscorefourfactorsv2\u001b[0m\u001b[1;33m.\u001b[0m\u001b[0mBoxScoreFourFactorsV2\u001b[0m\u001b[1;33m(\u001b[0m\u001b[0mgame_id\u001b[0m\u001b[1;33m=\u001b[0m\u001b[0mgame_id\u001b[0m\u001b[1;33m,\u001b[0m \u001b[0mend_period\u001b[0m\u001b[1;33m=\u001b[0m\u001b[0mperiod\u001b[0m\u001b[1;33m,\u001b[0m \u001b[0mtimeout\u001b[0m\u001b[1;33m=\u001b[0m\u001b[1;36m60\u001b[0m\u001b[1;33m,\u001b[0m \u001b[0mheaders\u001b[0m\u001b[1;33m=\u001b[0m\u001b[0mheaders\u001b[0m\u001b[1;33m)\u001b[0m\u001b[1;33m.\u001b[0m\u001b[0mget_data_frames\u001b[0m\u001b[1;33m(\u001b[0m\u001b[1;33m)\u001b[0m\u001b[1;33m[\u001b[0m\u001b[1;36m1\u001b[0m\u001b[1;33m]\u001b[0m\u001b[1;33m\u001b[0m\u001b[1;33m\u001b[0m\u001b[0m\n\u001b[0m",
      "\u001b[1;31mNameError\u001b[0m: name 'game_id' is not defined"
     ]
    }
   ],
   "source": [
    "team_boxscore = boxscorefourfactorsv2.BoxScoreFourFactorsV2().get_data_frames()[1]"
   ]
  },
  {
   "cell_type": "code",
   "execution_count": null,
   "metadata": {},
   "outputs": [],
   "source": []
  },
  {
   "cell_type": "code",
   "execution_count": null,
   "metadata": {},
   "outputs": [],
   "source": [
    "seasons = ['2010-11', '2011-12', '2012-13', '2013-14', '2014-15', \n",
    "           '2015-16', '2016-17', '2017-18', '2018-19', '2019-20',\n",
    "           '2020-21']\n",
    "\n",
    "def get_fourfactor_boxscores(seasons=seasons):\n",
    "    headers = {\n",
    "        'Host': 'stats.nba.com',\n",
    "        'User-Agent': 'Mozilla/5.0 (Windows NT 10.0; Win64; x64) AppleWebKit/537.36 (KHTML, like Gecko) Chrome/87.0.4280.141 Safari/537.36 Edg/87.0.664.75',\n",
    "        'Accept': 'application/json, text/plain, */*',\n",
    "        'Accept-Language': 'en-US,en;q=0.5',\n",
    "        'Referer': 'https://stats.nba.com/',\n",
    "        'Accept-Encoding': 'gzip, deflate, br',\n",
    "        'Connection': 'keep-alive',\n",
    "        'x-nba-stats-origin': 'stats',\n",
    "        'x-nba-stats-token': 'true'\n",
    "    }\n",
    "\n",
    "    for season in seasons:\n",
    "        gamelogs = leaguegamelog.LeagueGameLog(season=season).get_data_frames()[0]\n",
    "        game_ids = gamelogs['GAME_ID'].unique()\n",
    "        team_boxscore_four_factors = []\n",
    "        player_boxscore_four_factors = []\n",
    "        for game_id in tqdm(game_ids, desc='{} progress:'.format(season)):\n",
    "            team_boxscore = boxscorefourfactorsv2.BoxScoreFourFactorsV2(game_id=game_id, end_period=period, timeout=60, headers=headers).get_data_frames()[1]\n",
    "            team_boxscore_four_factors.append(team_boxscore)\n",
    "            player_boxscore = boxscorefourfactorsv2.BoxScoreFourFactorsV2(game_id=game_id, end_period=period, timeout=60, headers=headers).get_data_frames()[0]\n",
    "            player_boxscore_four_factors.append(player_boxscore)\n",
    "            sleep(random.randint(1,3))\n",
    "            \n",
    "        season_team_boxscores_four_factors = pd.concat(team_boxscore_four_factors)\n",
    "        season_player_boxscores_four_factors = pd.concat(player_boxscore_four_factors)\n",
    "        \n",
    "        path_team = './data/team_fourfactor_boxscores_{}.csv'.format(season)\n",
    "        path_player = './data/player_fourfactor_boxscores_{}.csv'.format(season)\n",
    "        season_team_boxscores_four_factors.to_csv(path_team, index=False)\n",
    "        season_player_boxscores_four_factors.to_csv(path_player, index=False)\n",
    "\n",
    "    return None\n",
    "\n",
    "get_fourfactor_boxscores(seasons=['2010-11'])"
   ]
  },
  {
   "cell_type": "code",
   "execution_count": null,
   "metadata": {},
   "outputs": [],
   "source": []
  },
  {
   "cell_type": "code",
   "execution_count": 38,
   "metadata": {},
   "outputs": [],
   "source": [
    "from sportsipy.nba.teams import Teams\n",
    "from sportsipy.nba.boxscore import Boxscore, Boxscores, BoxscorePlayer\n",
    "from sportsipy.nba.player import AbstractPlayer\n",
    "from sportsipy.nba.schedule import Game\n"
   ]
  },
  {
   "cell_type": "code",
   "execution_count": 29,
   "metadata": {},
   "outputs": [
    {
     "data": {
      "text/html": [
       "<div>\n",
       "<style scoped>\n",
       "    .dataframe tbody tr th:only-of-type {\n",
       "        vertical-align: middle;\n",
       "    }\n",
       "\n",
       "    .dataframe tbody tr th {\n",
       "        vertical-align: top;\n",
       "    }\n",
       "\n",
       "    .dataframe thead th {\n",
       "        text-align: right;\n",
       "    }\n",
       "</style>\n",
       "<table border=\"1\" class=\"dataframe\">\n",
       "  <thead>\n",
       "    <tr style=\"text-align: right;\">\n",
       "      <th></th>\n",
       "      <th>away_assist_percentage</th>\n",
       "      <th>away_assists</th>\n",
       "      <th>away_block_percentage</th>\n",
       "      <th>away_blocks</th>\n",
       "      <th>away_defensive_rating</th>\n",
       "      <th>away_defensive_rebound_percentage</th>\n",
       "      <th>away_defensive_rebounds</th>\n",
       "      <th>away_effective_field_goal_percentage</th>\n",
       "      <th>away_field_goal_attempts</th>\n",
       "      <th>away_field_goal_percentage</th>\n",
       "      <th>...</th>\n",
       "      <th>home_two_point_field_goal_percentage</th>\n",
       "      <th>home_two_point_field_goals</th>\n",
       "      <th>home_wins</th>\n",
       "      <th>location</th>\n",
       "      <th>losing_abbr</th>\n",
       "      <th>losing_name</th>\n",
       "      <th>pace</th>\n",
       "      <th>winner</th>\n",
       "      <th>winning_abbr</th>\n",
       "      <th>winning_name</th>\n",
       "    </tr>\n",
       "  </thead>\n",
       "  <tbody>\n",
       "    <tr>\n",
       "      <th>201710310LAL</th>\n",
       "      <td>51.2</td>\n",
       "      <td>21</td>\n",
       "      <td>4.6</td>\n",
       "      <td>3</td>\n",
       "      <td>116.0</td>\n",
       "      <td>75.6</td>\n",
       "      <td>34</td>\n",
       "      <td>0.489</td>\n",
       "      <td>94</td>\n",
       "      <td>0.436</td>\n",
       "      <td>...</td>\n",
       "      <td>0.508</td>\n",
       "      <td>33</td>\n",
       "      <td>0</td>\n",
       "      <td>STAPLES Center, Los Angeles, California</td>\n",
       "      <td>DET</td>\n",
       "      <td>Detroit Pistons</td>\n",
       "      <td>97.4</td>\n",
       "      <td>Home</td>\n",
       "      <td>LAL</td>\n",
       "      <td>Los Angeles Lakers</td>\n",
       "    </tr>\n",
       "  </tbody>\n",
       "</table>\n",
       "<p>1 rows × 82 columns</p>\n",
       "</div>"
      ],
      "text/plain": [
       "              away_assist_percentage  away_assists  away_block_percentage  \\\n",
       "201710310LAL                    51.2            21                    4.6   \n",
       "\n",
       "              away_blocks  away_defensive_rating  \\\n",
       "201710310LAL            3                  116.0   \n",
       "\n",
       "              away_defensive_rebound_percentage  away_defensive_rebounds  \\\n",
       "201710310LAL                               75.6                       34   \n",
       "\n",
       "              away_effective_field_goal_percentage  away_field_goal_attempts  \\\n",
       "201710310LAL                                 0.489                        94   \n",
       "\n",
       "              away_field_goal_percentage  ...  \\\n",
       "201710310LAL                       0.436  ...   \n",
       "\n",
       "              home_two_point_field_goal_percentage  \\\n",
       "201710310LAL                                 0.508   \n",
       "\n",
       "              home_two_point_field_goals  home_wins  \\\n",
       "201710310LAL                          33          0   \n",
       "\n",
       "                                             location  losing_abbr  \\\n",
       "201710310LAL  STAPLES Center, Los Angeles, California          DET   \n",
       "\n",
       "                  losing_name  pace  winner  winning_abbr        winning_name  \n",
       "201710310LAL  Detroit Pistons  97.4    Home           LAL  Los Angeles Lakers  \n",
       "\n",
       "[1 rows x 82 columns]"
      ]
     },
     "execution_count": 29,
     "metadata": {},
     "output_type": "execute_result"
    }
   ],
   "source": [
    "game = Boxscore('201710310LAL')\n",
    "game.dataframe"
   ]
  },
  {
   "cell_type": "code",
   "execution_count": 39,
   "metadata": {},
   "outputs": [
    {
     "ename": "TypeError",
     "evalue": "__init__() missing 2 required positional arguments: 'player_name' and 'player_data'",
     "output_type": "error",
     "traceback": [
      "\u001b[1;31m---------------------------------------------------------------------------\u001b[0m",
      "\u001b[1;31mTypeError\u001b[0m                                 Traceback (most recent call last)",
      "\u001b[1;32m<ipython-input-39-815712d81c35>\u001b[0m in \u001b[0;36m<module>\u001b[1;34m\u001b[0m\n\u001b[1;32m----> 1\u001b[1;33m \u001b[0mBoxscorePlayer\u001b[0m\u001b[1;33m(\u001b[0m\u001b[1;34m'hardeja01'\u001b[0m\u001b[1;33m)\u001b[0m\u001b[1;33m\u001b[0m\u001b[1;33m\u001b[0m\u001b[0m\n\u001b[0m",
      "\u001b[1;31mTypeError\u001b[0m: __init__() missing 2 required positional arguments: 'player_name' and 'player_data'"
     ]
    }
   ],
   "source": [
    "BoxscorePlayer('hardeja01')"
   ]
  },
  {
   "cell_type": "code",
   "execution_count": null,
   "metadata": {},
   "outputs": [],
   "source": []
  },
  {
   "cell_type": "code",
   "execution_count": null,
   "metadata": {},
   "outputs": [],
   "source": []
  },
  {
   "cell_type": "code",
   "execution_count": null,
   "metadata": {},
   "outputs": [],
   "source": [
    "game = Boxscores()"
   ]
  }
 ],
 "metadata": {
  "kernelspec": {
   "display_name": "Python 3",
   "language": "python",
   "name": "python3"
  },
  "language_info": {
   "codemirror_mode": {
    "name": "ipython",
    "version": 3
   },
   "file_extension": ".py",
   "mimetype": "text/x-python",
   "name": "python",
   "nbconvert_exporter": "python",
   "pygments_lexer": "ipython3",
   "version": "3.7.4"
  }
 },
 "nbformat": 4,
 "nbformat_minor": 4
}
